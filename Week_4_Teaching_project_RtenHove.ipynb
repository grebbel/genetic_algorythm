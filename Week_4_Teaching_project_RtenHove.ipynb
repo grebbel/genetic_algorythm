{
  "nbformat": 4,
  "nbformat_minor": 0,
  "metadata": {
    "colab": {
      "name": "Week_4_Teaching_project_RtenHove.ipynb",
      "provenance": [],
      "collapsed_sections": [],
      "include_colab_link": true
    },
    "kernelspec": {
      "name": "python3",
      "display_name": "Python 3"
    },
    "language_info": {
      "name": "python"
    }
  },
  "cells": [
    {
      "cell_type": "markdown",
      "metadata": {
        "id": "view-in-github",
        "colab_type": "text"
      },
      "source": [
        "<a href=\"https://colab.research.google.com/github/grebbel/genetic_algorythm/blob/main/Week_4_Teaching_project_RtenHove.ipynb\" target=\"_parent\"><img src=\"https://colab.research.google.com/assets/colab-badge.svg\" alt=\"Open In Colab\"/></a>"
      ]
    },
    {
      "cell_type": "markdown",
      "source": [
        "# Algorithms for the Travelling Biologist.\n",
        "**Author**: [Robert ten Hove](https://theparasitologist.com/)  \n",
        "**Date created**: 06/03/2022  \n",
        "**Last modified**: 09/03/2022   \n",
        "**Credits**: The python code that is used in this module is written by [Witek ten Hove](https://www.linkedin.com/in/witektenhove/).\n",
        "\n",
        "\n",
        "______\n",
        "\n",
        "## Syllabus\n",
        "\n",
        "### Summary  \n",
        "This module is the first part of series 'algorithms' for Biologist. It will explain how an adaptive heuristic search algorithm can be applied to handle a famous combinatorial optimization problem: the one of the '*traveling salesman*', which is a representation for many problems in Biology.  \n",
        "\n",
        "### Target Learner \n",
        "The TARGET LEARNER of this module is the curious Biologist who's heard something about **Genetic Algorithms**, and: \n",
        "1.   Wants to know exactly what it is, \n",
        "2.   How to employ it to solve the traveling salesman problem, \n",
        "3.   Wants to calculate the shortest route, for example between the sample collection sites.  \n",
        "\n",
        "### Prerequisite skills \n",
        "You are a Biologist with basic Python programming skills. No advanced mathematical training is required to complete this module successfully. The goal is to whet your appetite for using Genetic Algorithms in your work as a Biologist.   \n",
        "\n",
        "### Content and Assessments\n",
        "\n",
        "1.   **Video** (2 min.)   \n",
        "    * What is the 'Traveling Salesman problem' \n",
        "    * Problem description.    \n",
        "2.   **Quiz** (3 min.)  \n",
        "    * Explain the Traveling Salesman problem\n",
        "    * Describe the difference between exact and heuristic algorithms.\n",
        "3.   **Video** (3 min.)   \n",
        "    Genetic Algorithms: mathematical optimization inspired by natural selection.\n",
        "4.  **Quiz** (1 min.) \n",
        "    * Explain the principle of genetic algorithms\n",
        "5.   **Coding exercise** (3 min.)  \n",
        "    * Import libraries \n",
        "    * Create classes City and Fitness \n",
        "    * Define functions for routes, population, ranking and selection \n",
        "6.   **Video** (3 min.)   \n",
        "    On populations, breeding, mutations, selections and new generations. \n",
        "7.   **Coding exercise** (3 min.)  \n",
        "    * Define functions for 'breeding new populations' and 'mutations'.   \n",
        "8.   **Quiz** (2 min.)   \n",
        "    * Explain the why mutations are added to new populations\n",
        "    * Explain how to avoid visiting the same city more than once.   \n",
        "6.   **Video** (3 min.)   \n",
        "    On running and interpreting the genetic algorithm. \n",
        "9.  **Coding exercise** (3 min.)   \n",
        "    * Define function for 'genetic algorithm'.\n",
        "    * Run the genetic Algorithm. \n",
        "11.  **Video** (5 min.)  \n",
        "    * Implications and applications of Genetic Algorithms.   \n",
        "    * Recapitulate the module.\n",
        "\n",
        "\n",
        "______ \n",
        "# Chapter 1: What is the 'Traveling Salesman problem?'. \n",
        "\n",
        "Click in the video to view directly, or download it from [Vimeo](https://vimeo.com/user140403149/download/691091583/e8fda085cc).  \n",
        "\n",
        "[![The traveling salesman](https://videoapi-muybridge.vimeocdn.com/animated-thumbnails/image/2fa24336-e3c5-4b78-b430-c597537644e0.gif?ClientID=vimeo-core-prod&Date=1647976990&Signature=e9b1b95a397bc1ab10dbdc189794d03f356536e0)](https://vimeo.com/691091583)\n",
        "\n",
        "  \n",
        "  \n",
        "The video explained the differences between an **Exact** algorithm and a **Heuristic** algorithm. These differences are listed again in the table below.    \n",
        "\n",
        "\n",
        "\n",
        "|  EXACT | HEURISTIC  | \n",
        "|---------|--------------------|\n",
        "| Applications: commonly used to solve mathematical problems | Used to solve an abundance of different problems, especially those that are based on 'experiences'.   |   \n",
        "| A step-by-step process.  |  Doesn’t follow a step-by-step process or guide |    \n",
        "| Algorithm problem-solving strategy is relatively slow.   | Quick and convenient. It uses shortcuts. |  \n",
        "| Exact outcomes are always guaranteed.  | The outcomes are not guaranteed. |  \n",
        "  \n",
        "The heuristic algorithms has many applications in Biology, and in other field. This [website](https://en.wikipedia.org/wiki/List_of_genetic_algorithm_applications) illustrates a variety of applications. "
      ],
      "metadata": {
        "id": "63WGpu2PAIQ9"
      }
    },
    {
      "cell_type": "markdown",
      "source": [
        "# Quiz\n",
        "The map below shows the travel time between the locations. \n",
        "\n",
        "<img src=\"https://theparasitologist.com/images/Example%20TSP.png\" alt=\"TSP\" width=\"300\"> \n",
        "<figcaption align = \"left\">Image 1 - Travel time between locations.</figcaption>\n",
        "\n",
        "\n",
        "From the above map, the following table is prepared.   \n",
        "\n",
        "\n",
        "|          | GREEN | RED | YELLOW | \n",
        "|----------:|:-------|:-----|:--------|\n",
        "|**GREEN** | 0     | 9   | 8      |\n",
        "|**RED**   | ?     | ?   | ?      |\n",
        "|**YELLOW**| ?     | ?   | ?      |\n",
        "\n",
        "\n",
        "**QUESTION 1**: Finalize the table. "
      ],
      "metadata": {
        "id": "CohM5dy0TAQ0"
      }
    },
    {
      "cell_type": "code",
      "source": [
        "#@title Question 2: { run: \"auto\" }\n",
        "#@markdown Fill in the table. Question........?.\n",
        "answer = \"Answer 4\" #@param [\"Answer 1\", \"Answer 2\", \"Answer 3\", \"Answer 4\"]\n",
        "\n",
        "def check1(answer):\n",
        "  if answer == \"Answer 1\":\n",
        "    print(\"Incorrect! Note that ....\")\n",
        "  elif answer == \"Answer 2\":\n",
        "    print(\"Correct! You've calculated the correct and cheapest route.\")\n",
        "  elif answer == \"Answer 3\":\n",
        "    print(\"Incorrect! Note that ...\")\n",
        "  elif answer == \"Answer 4\":\n",
        "    print(\"Incorrect! Note that... .\")\n",
        "\n",
        "check1(answer)"
      ],
      "metadata": {
        "id": "BvrKxzbVJ4Vv"
      },
      "execution_count": null,
      "outputs": []
    },
    {
      "cell_type": "markdown",
      "source": [
        "\n",
        "\n",
        "# Chapter 3: Genetic Algorithms  \n",
        "### Mathematical optimization inspired by natural selection. \n",
        "\n",
        "\n"
      ],
      "metadata": {
        "id": "iScZlbosJx-a"
      }
    },
    {
      "cell_type": "code",
      "source": [
        "from IPython.display import HTML\n",
        "HTML('<iframe src=\"https://docs.google.com/presentation/d/1C32sS7Ds9GfDhJZWybcTB7YxdHAnmDCyqk4xFElKwmA/edit?usp=sharing\" frameborder=\"0\" width=\"729\" height=\"527\" allowfullscreen=\"true\" mozallowfullscreen=\"true\" webkitallowfullscreen=\"true\"></iframe>')"
      ],
      "metadata": {
        "colab": {
          "base_uri": "https://localhost:8080/",
          "height": 549
        },
        "id": "5OFua2QbgJMr",
        "outputId": "f52bc5b8-0185-4372-a771-c7eaf50e34f0"
      },
      "execution_count": 8,
      "outputs": [
        {
          "output_type": "execute_result",
          "data": {
            "text/plain": [
              "<IPython.core.display.HTML object>"
            ],
            "text/html": [
              "<iframe src=\"https://docs.google.com/presentation/d/1C32sS7Ds9GfDhJZWybcTB7YxdHAnmDCyqk4xFElKwmA/edit?usp=sharing\" frameborder=\"0\" width=\"729\" height=\"527\" allowfullscreen=\"true\" mozallowfullscreen=\"true\" webkitallowfullscreen=\"true\"></iframe>"
            ]
          },
          "metadata": {},
          "execution_count": 8
        }
      ]
    },
    {
      "cell_type": "markdown",
      "source": [
        "\n",
        "# Chapter 4: Quiz \n",
        "\n",
        "```\n",
        "# Ut enim ad minim veniam, quis nostrud exercitation ullamco laboris nisi ut aliquip ex ea commodo consequat.\n",
        "```\n"
      ],
      "metadata": {
        "id": "fusx1Z2Lgc3q"
      }
    },
    {
      "cell_type": "markdown",
      "source": [
        "# Chapter 5: Coding Exercise \n",
        "\n",
        "### Import Libraries\n",
        "To start the coding session, we need to import a few libraries.  \n",
        "*  **NumPy** is a Python library used for working with arrays. It also has functions for working with linear algebra and matrices. \n",
        "*  **Random**, for generating random numbers. \n",
        "*  **Operator** exports a set of efficient functions corresponding to the intrinsic operators of Python. For example, operator.add(x, y) is equivalent to the expression x+y.\n",
        "*  **Pandas** is a fast, powerful, flexible and easy to use open source data analysis and manipulation tool. \n",
        "*  **Matplotlib** to set up matplotlib to work interactively.  "
      ],
      "metadata": {
        "id": "UvrEWFTQt-oL"
      }
    },
    {
      "cell_type": "code",
      "source": [
        "import numpy as np, random, operator, pandas as pd, matplotlib.pyplot as plt"
      ],
      "metadata": {
        "id": "wY7Zm5DDtogB"
      },
      "execution_count": 9,
      "outputs": []
    },
    {
      "cell_type": "markdown",
      "source": [
        "### Create classes City and Fitness \n",
        "\n",
        "In the following code, you prepare several classes. A class is a combination of data, definitions and functions. In the first part, a 'map' is defined by locations, distances between two locations and the total distance of all locations.  \n",
        "  \n",
        "The class **City** contains three definitions:  \n",
        "*  *x* and *y* are for defining the cartasian x and y coordinates.  \n",
        "*  *distance* is calculating the distance between two locations using Pythagoras.  \n",
        "* in \\__repr__(self) the coordinates are returned in a text (=string) format.     \n",
        "\n",
        "<img src=\"https://theparasitologist.com/images/pythago.jpeg\" alt=\"TSP\" width=\"400\"> \n",
        "<figcaption align = \"left\">Image 2 - Distance between locations.</figcaption>\n",
        "  \n",
        "The class **Fitness** contains the following three definitions: \n",
        "*  In *def \\__init__(self, route)*, two variables are created, for distiance and for fitness. Their standard value are set on null.  \n",
        "*  The *def routeDistance(self)* is a method to calculate the __whole__ route. This definition also contains the object *len*, which indicated the number of locations along the route.  \n",
        "  \n",
        "In **line 26**, the first and subsequent location is indicated by *i*.  \n",
        "Now continue to **line 28**: Suppose *len = 10*, and and you are at location nr 4 (+1 = 5), then as long as this location number (=5) is smaller than the total number of locations (=10), then you continue to the next location.  \n",
        "In **lines 30-31**, when you get to the last location number, you need to return to your starting point. The route needs to be closed.  \n",
        "In **line 32**, the city object with coordinates is called to calculate the distance between two locations.      \n",
        "  \n",
        "In the last definition *routeFitness(self)*, the purpose is to get the shortest length. This is translated as 'Fitness', which is the inverted number (1/x) of the distance. Meaning, the bigger the distance, the smaller the Fitness.  "
      ],
      "metadata": {
        "id": "XZLXWH8JuXbY"
      }
    },
    {
      "cell_type": "code",
      "source": [
        "class City:\n",
        "    def __init__(self, x, y):\n",
        "        self.x = x\n",
        "        self.y = y\n",
        "\n",
        "    def distance(self, city):\n",
        "        xDis = abs(self.x - city.x) # absolute number (min is plus) \n",
        "        yDis = abs(self.y - city.y)\n",
        "        distance = np.sqrt((xDis ** 2) + (yDis ** 2)) #pythagoras for distance \n",
        "        return distance\n",
        "    \n",
        "    def __repr__(self):\n",
        "        return \"(\" + str(self.x) + \",\" + str(self.y) + \")\" # return method in text format (x coordinate, y cooordinate)\n",
        "\n",
        "\n",
        "class Fitness:\n",
        "    def __init__(self, route):\n",
        "        self.route = route\n",
        "        self.distance = 0\n",
        "        self.fitness = 0.0  #standard value is null  \n",
        "\n",
        "    def routeDistance(self): # method to calculate distance of the whole route \n",
        "        if self.distance == 0:\n",
        "            pathDistance = 0 \n",
        "            for i in range(0, len(self.route)): # len = number of locations in a route; route is an index of arranged locations. \n",
        "                fromCity = self.route[i]   # i = First location\n",
        "                toCity = None\n",
        "                if i + 1 < len(self.route):  # As long as i (0 = 1) is smaller then total number of cities, the function will go to the next location\n",
        "                    toCity = self.route[i + 1]\n",
        "                else:   # if location reaches last of total locations...\n",
        "                    toCity = self.route[0]   # then go back to start. The route needs to be closed. \n",
        "                pathDistance += fromCity.distance(toCity) # The city object with coordinates is called to calculate the distance between two locations.   \n",
        "            self.distance = pathDistance\n",
        "        return self.distance\n",
        "\n",
        "    def routeFitness(self):\n",
        "        if self.fitness == 0:\n",
        "            self.fitness = 1 / float(self.routeDistance())  # Purpose is to get the shortest distance. Invert (1/x) -> the bigger the distance, the smaller the fitness. \n",
        "        return self.fitness  \n"
      ],
      "metadata": {
        "id": "BAF2BwHWueGn"
      },
      "execution_count": 11,
      "outputs": []
    },
    {
      "cell_type": "markdown",
      "source": [
        "### Define functions for routes, population, ranking and selection \n",
        "In the next part, the Genetic Algorithm is further defined with populations, ... \n",
        "\n",
        "# FROM HERE, WORK IN PROGRESS"
      ],
      "metadata": {
        "id": "-M6UQRp3uolS"
      }
    },
    {
      "cell_type": "code",
      "source": [
        "def createRoute(cityList):\n",
        "    route = random.sample(cityList, len(cityList))  #random -> sample uit lijst van steden, en geeft van drie steden terug (als drie steden, dan random return drie steden). \n",
        "    return route   "
      ],
      "metadata": {
        "id": "4RuXLOO4uvkt"
      },
      "execution_count": null,
      "outputs": []
    },
    {
      "cell_type": "code",
      "source": [
        "def initialPopulation(popSize, cityList):  # maakt populatie van routes (steden in verschillende volgorde is een route) \n",
        "    population = [] #om compturer niet te laten crashen, mogelijkheid ingeboud om aantal routes te beperken. (zelf aangeven)\n",
        "\n",
        "    for i in range(0, popSize):  \n",
        "        population.append(createRoute(cityList))  # rekend een route uit en stop die in de populatieLists    \n",
        "    return population"
      ],
      "metadata": {
        "id": "87KEV4czu3Jk"
      },
      "execution_count": null,
      "outputs": []
    },
    {
      "cell_type": "code",
      "source": [
        "def rankRoutes(population): #\n",
        "    fitnessResults = {}\n",
        "    for i in range(0, len(population)):\n",
        "        fitnessResults[i] = Fitness(population[i]).routeFitness() #bereken van iedere route in de popiulatie de fitness score. \n",
        "    return sorted(fitnessResults.items(), key=operator.itemgetter(1), reverse=True) #sorteer de fitness scores"
      ],
      "metadata": {
        "id": "vgZVu72Ou57I"
      },
      "execution_count": null,
      "outputs": []
    },
    {
      "cell_type": "code",
      "source": [
        "def selection(popRanked, eliteSize):  \n",
        "    selectionResults = []  \n",
        "    df = pd.DataFrame(np.array(popRanked), columns=[\"Index\", \"Fitness\"])\n",
        "    df['cum_sum'] = df.Fitness.cumsum()\n",
        "    df['cum_perc'] = 100*df.cum_sum/df.Fitness.sum() #label / verdeling van de fitnesses. \n",
        "\n",
        "    for i in range(0, eliteSize):\n",
        "        selectionResults.append(popRanked[i][0]) #je kunt zelf de top nogwat selecteren. \n",
        "    for i in range(0, len(popRanked) - eliteSize): #maar niet alleen de sterksten, maar ook enkele 'loozers'  \n",
        "        pick = 100*random.random()  #\n",
        "        for i in range(0, len(popRanked)):\n",
        "            if pick <= df.iat[i, 3]: #nog uitzoeken van 'iat' betekend. Doet het soms wel, soms niet\n",
        "                selectionResults.append(popRanked[i][0])\n",
        "                break\n",
        "    return selectionResults  # je krijg hier een nieuwe set van indeces terug."
      ],
      "metadata": {
        "id": "r0Thed3lu-QT"
      },
      "execution_count": null,
      "outputs": []
    },
    {
      "cell_type": "markdown",
      "source": [
        "# Chapter 6: Populations, breeding, mutations, selections and new generations.  \n",
        "\n",
        "[![Video](http://)](http://www.vimeo.com) "
      ],
      "metadata": {
        "id": "E16BVP6XvG7n"
      }
    },
    {
      "cell_type": "markdown",
      "source": [
        "# Chapter 7: Coding Exercise \n",
        "\n",
        "### Define functions for 'breeding new populations' and 'mutations'. "
      ],
      "metadata": {
        "id": "LILEI6G5vffX"
      }
    },
    {
      "cell_type": "code",
      "source": [
        "def matingPool(population, selectionResults):\n",
        "    matingpool = []\n",
        "    for i in range(0, len(selectionResults)):\n",
        "        index = selectionResults[i]\n",
        "        matingpool.append(population[index])\n",
        "    return matingpool"
      ],
      "metadata": {
        "id": "ockenw70vvba"
      },
      "execution_count": null,
      "outputs": []
    },
    {
      "cell_type": "code",
      "source": [
        "def breed(parent1, parent2):\n",
        "    child = []\n",
        "    childP1 = []\n",
        "    childP2 = []\n",
        "\n",
        "    geneA = int(random.random() * len(parent1))\n",
        "    geneB = int(random.random() * len(parent1))\n",
        "\n",
        "    startGene = min(geneA, geneB) \n",
        "    endGene = max(geneA, geneB)\n",
        "\n",
        "    for i in range(startGene, endGene):\n",
        "        childP1.append(parent1[i])\n",
        "\n",
        "    childP2 = [item for item in parent2 if item not in childP1]   #doe dit alleen maar als stad niet voorkomd in \n",
        "\n",
        "    child = childP1 + childP2\n",
        "    return child"
      ],
      "metadata": {
        "id": "XjATUKJGx7x5"
      },
      "execution_count": null,
      "outputs": []
    },
    {
      "cell_type": "code",
      "source": [
        "def breedPopulation(matingpool, eliteSize):\n",
        "    children = []\n",
        "    length = len(matingpool) - eliteSize\n",
        "    pool = random.sample(matingpool, len(matingpool))\n",
        "\n",
        "    for i in range(0, eliteSize):\n",
        "        children.append(matingpool[i])\n",
        "\n",
        "    for i in range(0, length):\n",
        "        child = breed(pool[i], pool[len(matingpool)-i-1])\n",
        "        children.append(child)\n",
        "    return children"
      ],
      "metadata": {
        "id": "vIIjQatHx-bX"
      },
      "execution_count": null,
      "outputs": []
    },
    {
      "cell_type": "code",
      "source": [
        "def mutate(individual, mutationRate):\n",
        "    for swapped in range(len(individual)):\n",
        "        if(random.random() < mutationRate):\n",
        "            swapWith = int(random.random() * len(individual))\n",
        "\n",
        "            city1 = individual[swapped]\n",
        "            city2 = individual[swapWith]\n",
        "\n",
        "            individual[swapped] = city2\n",
        "            individual[swapWith] = city1\n",
        "    return individual"
      ],
      "metadata": {
        "id": "8DLCrPekyBWB"
      },
      "execution_count": null,
      "outputs": []
    },
    {
      "cell_type": "code",
      "source": [
        "def mutatePopulation(population, mutationRate):\n",
        "    mutatedPop = []\n",
        "\n",
        "    for ind in range(0, len(population)):\n",
        "        mutatedInd = mutate(population[ind], mutationRate)\n",
        "        mutatedPop.append(mutatedInd)\n",
        "    return mutatedPop"
      ],
      "metadata": {
        "id": "btN35XuUyN9o"
      },
      "execution_count": null,
      "outputs": []
    },
    {
      "cell_type": "markdown",
      "source": [
        "# Chapter 8: Quiz   \n",
        "    * Explain the why mutations are added to new populations\n",
        "    * Explain how to avoid visiting the same city more than once. "
      ],
      "metadata": {
        "id": "B_47pOpxyPrf"
      }
    },
    {
      "cell_type": "markdown",
      "source": [
        "# Chapter 9: Running and interpreting the genetic algorithm.   \n",
        "\n",
        "[![Video](http://)](http://www.vimeo.com) "
      ],
      "metadata": {
        "id": "JVUOpXDryivW"
      }
    },
    {
      "cell_type": "markdown",
      "source": [
        "# Chapter 10: Coding Exercise\n",
        "### Define functions for 'genetic algorithm'."
      ],
      "metadata": {
        "id": "YMe7R7ezzM5r"
      }
    },
    {
      "cell_type": "code",
      "source": [
        "def nextGeneration(currentGen, eliteSize, mutationRate):\n",
        "    popRanked = rankRoutes(currentGen)\n",
        "    selectionResults = selection(popRanked, eliteSize)\n",
        "    matingpool = matingPool(currentGen, selectionResults)\n",
        "    children = breedPopulation(matingpool, eliteSize)\n",
        "    nextGeneration = mutatePopulation(children, mutationRate)\n",
        "    return nextGeneration"
      ],
      "metadata": {
        "id": "qYHlef_IzaCQ"
      },
      "execution_count": null,
      "outputs": []
    },
    {
      "cell_type": "code",
      "source": [
        "def geneticAlgorithm(cityList, popSize, eliteSize, mutationRate, generations):\n",
        "    pop = initialPopulation(popSize, cityList)\n",
        "    progress = []\n",
        "    progress.append(1 / rankRoutes(pop)[0][1])\n",
        "    print(\"Initial distance: \" + str(1 / rankRoutes(pop)[0][1]))\n",
        "\n",
        "    for i in range(0, generations):\n",
        "        if i % 100 == 0:\n",
        "            print(f\"Generation nr.: {i}\")\n",
        "        pop = nextGeneration(pop, eliteSize, mutationRate)\n",
        "        progress.append(1 / rankRoutes(pop)[0][1])\n",
        "\n",
        "    print(\"Final distance: \" + str(1 / rankRoutes(pop)[0][1]))\n",
        "    bestRouteIndex = rankRoutes(pop)[0][0]\n",
        "    bestRoute = pop[bestRouteIndex]\n",
        "    return bestRoute, progress"
      ],
      "metadata": {
        "id": "iz0PY5OZzlMF"
      },
      "execution_count": null,
      "outputs": []
    },
    {
      "cell_type": "markdown",
      "source": [
        "### Run the Genetic Algorithm"
      ],
      "metadata": {
        "id": "mW8uMdb6zvat"
      }
    },
    {
      "cell_type": "code",
      "source": [
        "cityList = []\n",
        "\n",
        "for i in range(0, 25):\n",
        "    cityList.append(City(x=int(random.random() * 200),\n",
        "                         y=int(random.random() * 200)))\n",
        "cityList"
      ],
      "metadata": {
        "id": "cVZs3H9Hz2uc"
      },
      "execution_count": null,
      "outputs": []
    },
    {
      "cell_type": "code",
      "source": [
        "x, y = [], []\n",
        "for item in cityList:\n",
        "    x.append(item.x)\n",
        "    y.append(item.y)\n",
        "plt.plot(x,y, marker = 'o', mfc = 'red', mec = 'red')"
      ],
      "metadata": {
        "id": "pMtgxffdz50U"
      },
      "execution_count": null,
      "outputs": []
    },
    {
      "cell_type": "code",
      "source": [
        "results = geneticAlgorithm(\n",
        "    cityList=cityList, popSize=100, eliteSize=20, mutationRate=0.01, generations=700)\n",
        "bestRoute = results[0]\n",
        "bestRoute"
      ],
      "metadata": {
        "id": "we9SNwhm0Fqp"
      },
      "execution_count": null,
      "outputs": []
    },
    {
      "cell_type": "code",
      "source": [
        "x, y = [], []\n",
        "for item in bestRoute:\n",
        "    x.append(item.x)\n",
        "    y.append(item.y)\n",
        "plt.plot(x, y, marker='o', mfc='red', mec='red')"
      ],
      "metadata": {
        "id": "md2P8I4i0LHn"
      },
      "execution_count": null,
      "outputs": []
    },
    {
      "cell_type": "code",
      "source": [
        "plt.plot(results[1])\n",
        "plt.ylabel('Distance')\n",
        "plt.xlabel('Generation')\n",
        "plt.show()"
      ],
      "metadata": {
        "id": "tizd-_A20Pcg"
      },
      "execution_count": null,
      "outputs": []
    },
    {
      "cell_type": "markdown",
      "source": [
        "# Chapter 11: Implications and applications of Genetic Algorithms.   \n",
        "    * Recapitulate the module."
      ],
      "metadata": {
        "id": "eq1g9zya0gYa"
      }
    }
  ]
}