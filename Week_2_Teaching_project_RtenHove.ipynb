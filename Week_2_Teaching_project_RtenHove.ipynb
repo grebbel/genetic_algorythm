{
  "nbformat": 4,
  "nbformat_minor": 0,
  "metadata": {
    "colab": {
      "name": "Week_2_Teaching_project_RtenHove.ipynb",
      "provenance": [],
      "collapsed_sections": [],
      "include_colab_link": true
    },
    "kernelspec": {
      "name": "python3",
      "display_name": "Python 3"
    },
    "language_info": {
      "name": "python"
    }
  },
  "cells": [
    {
      "cell_type": "markdown",
      "metadata": {
        "id": "view-in-github",
        "colab_type": "text"
      },
      "source": [
        "<a href=\"https://colab.research.google.com/github/grebbel/genetic_algorythm/blob/main/Week_2_Teaching_project_RtenHove.ipynb\" target=\"_parent\"><img src=\"https://colab.research.google.com/assets/colab-badge.svg\" alt=\"Open In Colab\"/></a>"
      ]
    },
    {
      "cell_type": "markdown",
      "source": [
        "# Genetic Algorithm for the Travelling Biologist.\n",
        "**Author**: [Robert ten Hove](https://theparasitologist.com/)  \n",
        "**Date created**: 06/03/2022  \n",
        "**Last modified**: 09/03/2022   \n",
        "**Credits**: The python code that is used in this module is written by [Witek ten Hove](https://www.linkedin.com/in/witektenhove/).\n",
        "\n",
        "\n",
        "______\n",
        "\n",
        "## Syllabus\n",
        "\n",
        "### Summary  \n",
        "This module provides an introduction to 'Genetic algorithms'. The Genetic algorithm is an adaptive heuristic search algorithm. In this module it will be explained how the genetic algorithm can be applied to handle a famous combinatorial optimization problem: the one of the '*traveling salesman*'.  \n",
        "The module **Genetic Algorithm for the Travelling Salesman** prepares you for the next module '*Advancing in Genetic Alogorithms*'.  \n",
        "\n",
        "### Target Learner \n",
        "The TARGET LEARNER of this module is the curious Biologist who's heard about **Genetic Algorithms**, and: \n",
        "1.   Wants to know what it is, \n",
        "2.   How to employ it to solve the traveling salesman problem, \n",
        "3.   Wants to calculate the shortest route, for example between the sample collection sites.  \n",
        "\n",
        "### Prerequisite skills \n",
        "You are a Biologist with basic Python programming skills. No advanced mathematical training is required to complete this module successfully. The goal is to whet your appetite for using Genetic Algorithms in your work as a Biologist.   \n",
        "\n",
        "### Content and Assessments\n",
        "\n",
        "1.   **Video** (2 min.)   \n",
        "    What is the 'Traveling Salesman problem' & Problem description.    \n",
        "2.   **Quiz** (3 min.)  \n",
        "    * Explain the Traveling Salesman problem\n",
        "    * Describe the difference between exact and heuristic algorithms.\n",
        "3.   **Video** (3 min.)   \n",
        "    Genetic Algorithms: mathematical optimization inspired by natural selection.\n",
        "4.  **Quiz** (1 min.) \n",
        "    * Explain the principle of genetic algorithms\n",
        "5.   **Coding exercise** (3 min.)  \n",
        "    * Import libraries \n",
        "    * Create classes City and Fitness \n",
        "    * Define functions for routes, population, ranking and selection \n",
        "6.   **Video** (3 min.)   \n",
        "    On populations, breeding, mutations, selections and new generations. \n",
        "7.   **Coding exercise** (3 min.)  \n",
        "    * Define functions for 'breeding new populations' and 'mutations'.   \n",
        "8.   **Quiz** (2 min.)   \n",
        "    * Explain the why mutations are added to new populations\n",
        "    * Explain how to avoid visiting the same city more than once.   \n",
        "6.   **Video** (3 min.)   \n",
        "    On running and interpreting the genetic algorithm. \n",
        "9.  **Coding exercise** (3 min.)   \n",
        "    * Define function for 'genetic algorithm'.\n",
        "    * Run the genetic Algorithm. \n",
        "11.  **Video** (5 min.)  \n",
        "    * Implications and applications of Genetic Algorithms.   \n",
        "    * Recapitulate the module.\n",
        "\n",
        "\n"
      ],
      "metadata": {
        "id": "63WGpu2PAIQ9"
      }
    },
    {
      "cell_type": "code",
      "source": [
        ""
      ],
      "metadata": {
        "id": "NAB0i5QTGrCd"
      },
      "execution_count": null,
      "outputs": []
    },
    {
      "cell_type": "code",
      "source": [
        ""
      ],
      "metadata": {
        "id": "UqhaXJywGro0"
      },
      "execution_count": null,
      "outputs": []
    }
  ]
}