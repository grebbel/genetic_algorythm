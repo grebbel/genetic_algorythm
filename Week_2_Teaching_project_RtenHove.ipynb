{
  "nbformat": 4,
  "nbformat_minor": 0,
  "metadata": {
    "colab": {
      "name": "Week_2_Teaching_project_RtenHove.ipynb",
      "provenance": [],
      "collapsed_sections": [
        "UvrEWFTQt-oL",
        "XZLXWH8JuXbY",
        "-M6UQRp3uolS",
        "LILEI6G5vffX",
        "YMe7R7ezzM5r",
        "mW8uMdb6zvat"
      ],
      "toc_visible": true,
      "include_colab_link": true
    },
    "kernelspec": {
      "name": "python3",
      "display_name": "Python 3"
    },
    "language_info": {
      "name": "python"
    }
  },
  "cells": [
    {
      "cell_type": "markdown",
      "metadata": {
        "id": "view-in-github",
        "colab_type": "text"
      },
      "source": [
        "<a href=\"https://colab.research.google.com/github/grebbel/genetic_algorythm/blob/main/Week_2_Teaching_project_RtenHove.ipynb\" target=\"_parent\"><img src=\"https://colab.research.google.com/assets/colab-badge.svg\" alt=\"Open In Colab\"/></a>"
      ]
    },
    {
      "cell_type": "markdown",
      "source": [
        "# Genetic Algorithm for the Travelling Biologist.\n",
        "**Author**: [Robert ten Hove](https://theparasitologist.com/)  \n",
        "**Date created**: 06/03/2022  \n",
        "**Last modified**: 09/03/2022   \n",
        "**Credits**: The python code that is used in this module is written by [Witek ten Hove](https://www.linkedin.com/in/witektenhove/).\n",
        "\n",
        "\n",
        "______\n",
        "\n",
        "## Syllabus\n",
        "\n",
        "### Summary  \n",
        "This module provides an introduction to 'Genetic algorithms'. The Genetic algorithm is an adaptive heuristic search algorithm. In this module it will be explained how the genetic algorithm can be applied to handle a famous combinatorial optimization problem: the one of the '*traveling salesman*'.  \n",
        "The module **Genetic Algorithm for the Travelling Salesman** prepares you for the next module '*Advancing in Genetic Alogorithms*'.  \n",
        "\n",
        "### Target Learner \n",
        "The TARGET LEARNER of this module is the curious Biologist who's heard about **Genetic Algorithms**, and: \n",
        "1.   Wants to know what it is, \n",
        "2.   How to employ it to solve the traveling salesman problem, \n",
        "3.   Wants to calculate the shortest route, for example between the sample collection sites.  \n",
        "\n",
        "### Prerequisite skills \n",
        "You are a Biologist with basic Python programming skills. No advanced mathematical training is required to complete this module successfully. The goal is to whet your appetite for using Genetic Algorithms in your work as a Biologist.   \n",
        "\n",
        "### Content and Assessments\n",
        "\n",
        "1.   **Video** (2 min.)   \n",
        "    * What is the 'Traveling Salesman problem' \n",
        "    * Problem description.    \n",
        "2.   **Quiz** (3 min.)  \n",
        "    * Explain the Traveling Salesman problem\n",
        "    * Describe the difference between exact and heuristic algorithms.\n",
        "3.   **Video** (3 min.)   \n",
        "    Genetic Algorithms: mathematical optimization inspired by natural selection.\n",
        "4.  **Quiz** (1 min.) \n",
        "    * Explain the principle of genetic algorithms\n",
        "5.   **Coding exercise** (3 min.)  \n",
        "    * Import libraries \n",
        "    * Create classes City and Fitness \n",
        "    * Define functions for routes, population, ranking and selection \n",
        "6.   **Video** (3 min.)   \n",
        "    On populations, breeding, mutations, selections and new generations. \n",
        "7.   **Coding exercise** (3 min.)  \n",
        "    * Define functions for 'breeding new populations' and 'mutations'.   \n",
        "8.   **Quiz** (2 min.)   \n",
        "    * Explain the why mutations are added to new populations\n",
        "    * Explain how to avoid visiting the same city more than once.   \n",
        "6.   **Video** (3 min.)   \n",
        "    On running and interpreting the genetic algorithm. \n",
        "9.  **Coding exercise** (3 min.)   \n",
        "    * Define function for 'genetic algorithm'.\n",
        "    * Run the genetic Algorithm. \n",
        "11.  **Video** (5 min.)  \n",
        "    * Implications and applications of Genetic Algorithms.   \n",
        "    * Recapitulate the module.\n",
        "\n",
        "\n",
        "______ \n",
        "# Chapter 1: What is the 'Traveling Salesman problem?'. \n",
        "\n",
        "[![Video](http://)](http://www.vimeo.com) \n",
        "  \n",
        "# Chapter 2: Quiz  \n",
        "```\n",
        "# Lorem ipsum dolor sit amet, consectetur adipiscing elit, sed do eiusmod tempor incididunt ut labore et dolore magna aliqua. \n",
        "```\n",
        "\n",
        "# Chapter 3: Genetic Algorithms  \n",
        "### Mathematical optimization inspired by natural selection. \n",
        "\n",
        "[![Video](http://)](http://www.vimeo.com) \n",
        "\n",
        "# Chapter 4: Quiz \n",
        "\n",
        "```\n",
        "# Ut enim ad minim veniam, quis nostrud exercitation ullamco laboris nisi ut aliquip ex ea commodo consequat.\n",
        "```\n",
        "\n",
        "\n",
        "\n",
        "\n"
      ],
      "metadata": {
        "id": "63WGpu2PAIQ9"
      }
    },
    {
      "cell_type": "markdown",
      "source": [
        "# Chapter 5: Coding Exercise \n",
        "\n",
        "### Import Libraries\n",
        "\n"
      ],
      "metadata": {
        "id": "UvrEWFTQt-oL"
      }
    },
    {
      "cell_type": "code",
      "source": [
        "import numpy as np, random, operator, pandas as pd, matplotlib.pyplot as plt"
      ],
      "metadata": {
        "id": "wY7Zm5DDtogB"
      },
      "execution_count": null,
      "outputs": []
    },
    {
      "cell_type": "markdown",
      "source": [
        "### Create classes City and Fitness "
      ],
      "metadata": {
        "id": "XZLXWH8JuXbY"
      }
    },
    {
      "cell_type": "code",
      "source": [
        "class City:\n",
        "    def __init__(self, x, y):\n",
        "        self.x = x\n",
        "        self.y = y\n",
        "    # stap gedefineeerd door x en y coordinaat\n",
        "\n",
        "    def distance(self, city):\n",
        "        xDis = abs(self.x - city.x) # absoluut (min is plus) \n",
        "        yDis = abs(self.y - city.y)\n",
        "        distance = np.sqrt((xDis ** 2) + (yDis ** 2)) #pythagoras voor afstand \n",
        "        return distance\n",
        "    \n",
        "    def __repr__(self):\n",
        "        return \"(\" + str(self.x) + \",\" + str(self.y) + \")\" # return method in text format (x coordinaat, y cooordinaat)\n",
        "      # class is een object \n",
        "      # data en meteeen ook functies (methods) \n",
        "\n",
        "\n",
        "      class Fitness:\n",
        "    def __init__(self, route):\n",
        "        self.route = route\n",
        "        self.distance = 0\n",
        "        self.fitness = 0.0  #standaard waarde = nul. Deze staan vast op null \n",
        "\n",
        "    def routeDistance(self): #method om pad uit te rekenen. -> afstand van hele route \n",
        "        if self.distance == 0:\n",
        "            pathDistance = 0 \n",
        "            for i in range(0, len(self.route)): # len = aantal steden in de route; route is een index van steden route = list van steden in bepaalde volgorde. \n",
        "                fromCity = self.route[i]   #eerste city\n",
        "                toCity = None\n",
        "                if i + 1 < len(self.route):  #zoalnd 0 = 1 kleinder is dan totaal aantal steden, dan pakt de fiunctie de volgende stad\n",
        "                    toCity = self.route[i + 1]\n",
        "                else:   # zoniet\n",
        "                    toCity = self.route[0]   #dan terug naar begin. de route moet dicht gemaakt worden. \n",
        "                pathDistance += fromCity.distance(toCity) #city object met coordinaten wordt opgeroepen om aftand tussen twee steden uit te rekeken  \n",
        "            self.distance = pathDistance\n",
        "        return self.distance\n",
        "\n",
        "    def routeFitness(self):\n",
        "        if self.fitness == 0:\n",
        "            self.fitness = 1 / float(self.routeDistance())  #optimalisatie van afstand (doel = kortste aftand) Inversie 1/x -> hoe groter de afstand, hoe kleinder de fitness. \n",
        "        return self.fitness  \n"
      ],
      "metadata": {
        "id": "BAF2BwHWueGn"
      },
      "execution_count": null,
      "outputs": []
    },
    {
      "cell_type": "markdown",
      "source": [
        "### Define functions for routes, population, ranking and selection "
      ],
      "metadata": {
        "id": "-M6UQRp3uolS"
      }
    },
    {
      "cell_type": "code",
      "source": [
        "def createRoute(cityList):\n",
        "    route = random.sample(cityList, len(cityList))  #random -> sample uit lijst van steden, en geeft van drie steden terug (als drie steden, dan random return drie steden). \n",
        "    return route   "
      ],
      "metadata": {
        "id": "4RuXLOO4uvkt"
      },
      "execution_count": null,
      "outputs": []
    },
    {
      "cell_type": "code",
      "source": [
        "def initialPopulation(popSize, cityList):  # maakt populatie van routes (steden in verschillende volgorde is een route) \n",
        "    population = [] #om compturer niet te laten crashen, mogelijkheid ingeboud om aantal routes te beperken. (zelf aangeven)\n",
        "\n",
        "    for i in range(0, popSize):  \n",
        "        population.append(createRoute(cityList))  # rekend een route uit en stop die in de populatieLists    \n",
        "    return population"
      ],
      "metadata": {
        "id": "87KEV4czu3Jk"
      },
      "execution_count": null,
      "outputs": []
    },
    {
      "cell_type": "code",
      "source": [
        "def rankRoutes(population): #\n",
        "    fitnessResults = {}\n",
        "    for i in range(0, len(population)):\n",
        "        fitnessResults[i] = Fitness(population[i]).routeFitness() #bereken van iedere route in de popiulatie de fitness score. \n",
        "    return sorted(fitnessResults.items(), key=operator.itemgetter(1), reverse=True) #sorteer de fitness scores"
      ],
      "metadata": {
        "id": "vgZVu72Ou57I"
      },
      "execution_count": null,
      "outputs": []
    },
    {
      "cell_type": "code",
      "source": [
        "def selection(popRanked, eliteSize):  \n",
        "    selectionResults = []  \n",
        "    df = pd.DataFrame(np.array(popRanked), columns=[\"Index\", \"Fitness\"])\n",
        "    df['cum_sum'] = df.Fitness.cumsum()\n",
        "    df['cum_perc'] = 100*df.cum_sum/df.Fitness.sum() #label / verdeling van de fitnesses. \n",
        "\n",
        "    for i in range(0, eliteSize):\n",
        "        selectionResults.append(popRanked[i][0]) #je kunt zelf de top nogwat selecteren. \n",
        "    for i in range(0, len(popRanked) - eliteSize): #maar niet alleen de sterksten, maar ook enkele 'loozers'  \n",
        "        pick = 100*random.random()  #\n",
        "        for i in range(0, len(popRanked)):\n",
        "            if pick <= df.iat[i, 3]: #nog uitzoeken van 'iat' betekend. Doet het soms wel, soms niet\n",
        "                selectionResults.append(popRanked[i][0])\n",
        "                break\n",
        "    return selectionResults  # je krijg hier een nieuwe set van indeces terug."
      ],
      "metadata": {
        "id": "r0Thed3lu-QT"
      },
      "execution_count": null,
      "outputs": []
    },
    {
      "cell_type": "markdown",
      "source": [
        "# Chapter 6: Populations, breeding, mutations, selections and new generations.  \n",
        "\n",
        "[![Video](http://)](http://www.vimeo.com) "
      ],
      "metadata": {
        "id": "E16BVP6XvG7n"
      }
    },
    {
      "cell_type": "markdown",
      "source": [
        "# Chapter 7: Coding Exercise \n",
        "\n",
        "### Define functions for 'breeding new populations' and 'mutations'. "
      ],
      "metadata": {
        "id": "LILEI6G5vffX"
      }
    },
    {
      "cell_type": "code",
      "source": [
        "def matingPool(population, selectionResults):\n",
        "    matingpool = []\n",
        "    for i in range(0, len(selectionResults)):\n",
        "        index = selectionResults[i]\n",
        "        matingpool.append(population[index])\n",
        "    return matingpool"
      ],
      "metadata": {
        "id": "ockenw70vvba"
      },
      "execution_count": 7,
      "outputs": []
    },
    {
      "cell_type": "code",
      "source": [
        "def breed(parent1, parent2):\n",
        "    child = []\n",
        "    childP1 = []\n",
        "    childP2 = []\n",
        "\n",
        "    geneA = int(random.random() * len(parent1))\n",
        "    geneB = int(random.random() * len(parent1))\n",
        "\n",
        "    startGene = min(geneA, geneB) \n",
        "    endGene = max(geneA, geneB)\n",
        "\n",
        "    for i in range(startGene, endGene):\n",
        "        childP1.append(parent1[i])\n",
        "\n",
        "    childP2 = [item for item in parent2 if item not in childP1]   #doe dit alleen maar als stad niet voorkomd in \n",
        "\n",
        "    child = childP1 + childP2\n",
        "    return child"
      ],
      "metadata": {
        "id": "XjATUKJGx7x5"
      },
      "execution_count": 8,
      "outputs": []
    },
    {
      "cell_type": "code",
      "source": [
        "def breedPopulation(matingpool, eliteSize):\n",
        "    children = []\n",
        "    length = len(matingpool) - eliteSize\n",
        "    pool = random.sample(matingpool, len(matingpool))\n",
        "\n",
        "    for i in range(0, eliteSize):\n",
        "        children.append(matingpool[i])\n",
        "\n",
        "    for i in range(0, length):\n",
        "        child = breed(pool[i], pool[len(matingpool)-i-1])\n",
        "        children.append(child)\n",
        "    return children"
      ],
      "metadata": {
        "id": "vIIjQatHx-bX"
      },
      "execution_count": 9,
      "outputs": []
    },
    {
      "cell_type": "code",
      "source": [
        "def mutate(individual, mutationRate):\n",
        "    for swapped in range(len(individual)):\n",
        "        if(random.random() < mutationRate):\n",
        "            swapWith = int(random.random() * len(individual))\n",
        "\n",
        "            city1 = individual[swapped]\n",
        "            city2 = individual[swapWith]\n",
        "\n",
        "            individual[swapped] = city2\n",
        "            individual[swapWith] = city1\n",
        "    return individual"
      ],
      "metadata": {
        "id": "8DLCrPekyBWB"
      },
      "execution_count": 10,
      "outputs": []
    },
    {
      "cell_type": "code",
      "source": [
        "def mutatePopulation(population, mutationRate):\n",
        "    mutatedPop = []\n",
        "\n",
        "    for ind in range(0, len(population)):\n",
        "        mutatedInd = mutate(population[ind], mutationRate)\n",
        "        mutatedPop.append(mutatedInd)\n",
        "    return mutatedPop"
      ],
      "metadata": {
        "id": "btN35XuUyN9o"
      },
      "execution_count": 11,
      "outputs": []
    },
    {
      "cell_type": "markdown",
      "source": [
        "# Chapter 8: Quiz   \n",
        "    * Explain the why mutations are added to new populations\n",
        "    * Explain how to avoid visiting the same city more than once. "
      ],
      "metadata": {
        "id": "B_47pOpxyPrf"
      }
    },
    {
      "cell_type": "markdown",
      "source": [
        "# Chapter 9: Running and interpreting the genetic algorithm.   \n",
        "\n",
        "[![Video](http://)](http://www.vimeo.com) "
      ],
      "metadata": {
        "id": "JVUOpXDryivW"
      }
    },
    {
      "cell_type": "markdown",
      "source": [
        "# Chapter 10: Coding Exercise\n",
        "### Define functions for 'genetic algorithm'."
      ],
      "metadata": {
        "id": "YMe7R7ezzM5r"
      }
    },
    {
      "cell_type": "code",
      "source": [
        "def nextGeneration(currentGen, eliteSize, mutationRate):\n",
        "    popRanked = rankRoutes(currentGen)\n",
        "    selectionResults = selection(popRanked, eliteSize)\n",
        "    matingpool = matingPool(currentGen, selectionResults)\n",
        "    children = breedPopulation(matingpool, eliteSize)\n",
        "    nextGeneration = mutatePopulation(children, mutationRate)\n",
        "    return nextGeneration"
      ],
      "metadata": {
        "id": "qYHlef_IzaCQ"
      },
      "execution_count": null,
      "outputs": []
    },
    {
      "cell_type": "code",
      "source": [
        "def geneticAlgorithm(cityList, popSize, eliteSize, mutationRate, generations):\n",
        "    pop = initialPopulation(popSize, cityList)\n",
        "    progress = []\n",
        "    progress.append(1 / rankRoutes(pop)[0][1])\n",
        "    print(\"Initial distance: \" + str(1 / rankRoutes(pop)[0][1]))\n",
        "\n",
        "    for i in range(0, generations):\n",
        "        if i % 100 == 0:\n",
        "            print(f\"Generation nr.: {i}\")\n",
        "        pop = nextGeneration(pop, eliteSize, mutationRate)\n",
        "        progress.append(1 / rankRoutes(pop)[0][1])\n",
        "\n",
        "    print(\"Final distance: \" + str(1 / rankRoutes(pop)[0][1]))\n",
        "    bestRouteIndex = rankRoutes(pop)[0][0]\n",
        "    bestRoute = pop[bestRouteIndex]\n",
        "    return bestRoute, progress"
      ],
      "metadata": {
        "id": "iz0PY5OZzlMF"
      },
      "execution_count": null,
      "outputs": []
    },
    {
      "cell_type": "markdown",
      "source": [
        "### Run the Genetic Algorithm"
      ],
      "metadata": {
        "id": "mW8uMdb6zvat"
      }
    },
    {
      "cell_type": "code",
      "source": [
        "cityList = []\n",
        "\n",
        "for i in range(0, 25):\n",
        "    cityList.append(City(x=int(random.random() * 200),\n",
        "                         y=int(random.random() * 200)))\n",
        "cityList"
      ],
      "metadata": {
        "id": "cVZs3H9Hz2uc"
      },
      "execution_count": null,
      "outputs": []
    },
    {
      "cell_type": "code",
      "source": [
        "x, y = [], []\n",
        "for item in cityList:\n",
        "    x.append(item.x)\n",
        "    y.append(item.y)\n",
        "plt.plot(x,y, marker = 'o', mfc = 'red', mec = 'red')"
      ],
      "metadata": {
        "id": "pMtgxffdz50U"
      },
      "execution_count": null,
      "outputs": []
    },
    {
      "cell_type": "code",
      "source": [
        "results = geneticAlgorithm(\n",
        "    cityList=cityList, popSize=100, eliteSize=20, mutationRate=0.01, generations=700)\n",
        "bestRoute = results[0]\n",
        "bestRoute"
      ],
      "metadata": {
        "id": "we9SNwhm0Fqp"
      },
      "execution_count": null,
      "outputs": []
    },
    {
      "cell_type": "code",
      "source": [
        "x, y = [], []\n",
        "for item in bestRoute:\n",
        "    x.append(item.x)\n",
        "    y.append(item.y)\n",
        "plt.plot(x, y, marker='o', mfc='red', mec='red')"
      ],
      "metadata": {
        "id": "md2P8I4i0LHn"
      },
      "execution_count": null,
      "outputs": []
    },
    {
      "cell_type": "code",
      "source": [
        "plt.plot(results[1])\n",
        "plt.ylabel('Distance')\n",
        "plt.xlabel('Generation')\n",
        "plt.show()"
      ],
      "metadata": {
        "id": "tizd-_A20Pcg"
      },
      "execution_count": null,
      "outputs": []
    },
    {
      "cell_type": "markdown",
      "source": [
        "# Chapter 11: Implications and applications of Genetic Algorithms.   \n",
        "    * Recapitulate the module."
      ],
      "metadata": {
        "id": "eq1g9zya0gYa"
      }
    }
  ]
}