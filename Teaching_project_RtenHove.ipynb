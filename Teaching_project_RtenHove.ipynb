{
  "nbformat": 4,
  "nbformat_minor": 0,
  "metadata": {
    "colab": {
      "name": "Teaching_project_RtenHove.ipynb",
      "provenance": [],
      "include_colab_link": true
    },
    "kernelspec": {
      "name": "python3",
      "display_name": "Python 3"
    },
    "language_info": {
      "name": "python"
    }
  },
  "cells": [
    {
      "cell_type": "markdown",
      "metadata": {
        "id": "view-in-github",
        "colab_type": "text"
      },
      "source": [
        "<a href=\"https://colab.research.google.com/github/grebbel/genetic_algorythm/blob/main/Teaching_project_RtenHove.ipynb\" target=\"_parent\"><img src=\"https://colab.research.google.com/assets/colab-badge.svg\" alt=\"Open In Colab\"/></a>"
      ]
    },
    {
      "cell_type": "markdown",
      "source": [
        "# Genetic Algorythm for the Travelling Salesman.\n",
        "**Author**: [Robert ten Hove](https://theparasitologist.com/)  \n",
        "**Date created**: 06/03/2022  \n",
        "**Last modified**: 06/03/2022   \n",
        "**Credits**: The code for this course was written by [Witek ten Hove](https://www.linkedin.com/in/witektenhove/).\n",
        "\n",
        "\n",
        "______\n",
        "\n",
        "## Syllabus\n",
        "\n",
        "### Summary  \n",
        "This colab provides an introduction to 'Genetic algorythms'. The Genetic algorythm is an adaptive heuristic search algorithm. This module will explain how the genetic algorythm can be applied to handle a famous combinatorial optimization problem: the one of the 'traveling salesman'.  \n",
        "\n",
        "### Target Learner \n",
        "The TARGET LEARNER of this module is the curious Microbiologist who's heard about 'Genetic Algorythms', and wants to know: \n",
        "1.   What it is, and\n",
        "2.   How it can be of use for him/her.\n",
        "\n",
        "### Prerequisite skills \n",
        "You do not need prior python programming skills or mathematical training to complete this module successfully. \n",
        "\n",
        "### Course-level Learning Objective \n",
        "After this module, you will be able to: employ a genetic algorythm to solve the shortest route for sample collection sites.   \n",
        "\n",
        "### Content and Assessments\n",
        "\n",
        "\n"
      ],
      "metadata": {
        "id": "63WGpu2PAIQ9"
      }
    }
  ]
}