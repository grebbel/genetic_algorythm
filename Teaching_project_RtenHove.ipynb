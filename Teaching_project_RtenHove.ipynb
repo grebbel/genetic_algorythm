{
  "nbformat": 4,
  "nbformat_minor": 0,
  "metadata": {
    "colab": {
      "name": "Teaching_project_RtenHove.ipynb",
      "provenance": [],
      "include_colab_link": true
    },
    "kernelspec": {
      "name": "python3",
      "display_name": "Python 3"
    },
    "language_info": {
      "name": "python"
    }
  },
  "cells": [
    {
      "cell_type": "markdown",
      "metadata": {
        "id": "view-in-github",
        "colab_type": "text"
      },
      "source": [
        "<a href=\"https://colab.research.google.com/github/grebbel/genetic_algorythm/blob/main/Teaching_project_RtenHove.ipynb\" target=\"_parent\"><img src=\"https://colab.research.google.com/assets/colab-badge.svg\" alt=\"Open In Colab\"/></a>"
      ]
    },
    {
      "cell_type": "markdown",
      "source": [
        "# Genetic Algorythm for the Travelling Salesman.\n",
        "**Author**: [Robert ten Hove](https://theparasitologist.com/)  \n",
        "**Date created**: 06/03/2022  \n",
        "**Last modified**: 06/03/2022   \n",
        "**Credits**: The code for this course was written by [Witek ten Hove](https://www.linkedin.com/in/witektenhove/).     \n",
        "\n",
        "______\n",
        "\n",
        "## Syllabus\n",
        "\n",
        "### Summary  \n",
        "This colab provides an introduction to 'Genetic algorythms'. The Genetic algorythm is an adaptive heuristic search algorithm. This module will explain how the genetic algorythm can be applied to handle a famous combinatorial optimization problem: the one of the 'traveling salesman'.  \n",
        "\n",
        "### Target Learner \n",
        "The TARGET LEARNER of this module is the curious Microbiologist who heard about 'Genetic Algorythms', and wants to know: \n",
        "1.   What is is, and\n",
        "2.   How it can be of use for him/her.\n",
        "\n",
        "\n",
        "\n",
        "\n",
        "### Course-level Learning Objective \n",
        "More Lorem Ipsum \n",
        "\n",
        "### Content and Assessments\n",
        "\n",
        "\n",
        "\n",
        "Target Learner: The TARGET LEARNER of this program is someone who is curious to know how to use Machine Learning (specifically Magenta) to generate Music.\n",
        "\n",
        "Prerequistes: To be successful in this program, you will need to be able to comfortably navigate the web and have a curious mind. You do not need to have prior experience with any programing language.\n",
        "\n",
        "Learning Objective: By the end of this course, you will be able to use the Magenta Transformer model with your selected music to create original piano snippets"
      ],
      "metadata": {
        "id": "63WGpu2PAIQ9"
      }
    }
  ]
}