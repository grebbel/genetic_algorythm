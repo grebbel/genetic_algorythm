{
  "nbformat": 4,
  "nbformat_minor": 0,
  "metadata": {
    "colab": {
      "name": "Teaching_project_RtenHove.ipynb",
      "provenance": []
    },
    "kernelspec": {
      "name": "python3",
      "display_name": "Python 3"
    },
    "language_info": {
      "name": "python"
    }
  },
  "cells": [
    {
      "cell_type": "markdown",
      "source": [
        "# Syllabus\n",
        "## Genetic Algorythm for the Travelling Salesman.\n",
        "\n"
      ],
      "metadata": {
        "id": "63WGpu2PAIQ9"
      }
    }
  ]
}